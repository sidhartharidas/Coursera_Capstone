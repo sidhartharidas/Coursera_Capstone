{
 "cells": [
  {
   "cell_type": "markdown",
   "metadata": {},
   "source": [
    "# Capstone Project- The Battle of Neighbourhoods #\n",
    "*Preliminary Report for Week 1*"
   ]
  },
  {
   "cell_type": "markdown",
   "metadata": {},
   "source": [
    "### Finding a suitable neighbourhood for opening an Indian restaurant in Singapore ###"
   ]
  },
  {
   "cell_type": "markdown",
   "metadata": {},
   "source": [
    "**Table of Contents**\n",
    "* Section 1 Problem Background \n",
    "* Section 2 Business Objective   \n",
    "* Section 3 Data Used  \n",
    "* Section 4 Methodology"
   ]
  },
  {
   "cell_type": "markdown",
   "metadata": {},
   "source": [
    "**1. Problem Background**       \n",
    "I live in Singapore, a tiny city state in South East Asia. In Singapore, food is viewed as crucial to its national identity and a unifying cultural thread. Eating is considered as a national pastime and food a national obsession. Food is a frequent topic of conversation among Singaporeans    \n",
    "  \n",
    "Indian cuisine is very popular in Singapore and like other Singaporean ethnic cuisines, Singaporean Indian cuisine has been influenced by multiple cultural groups. Dishes from both North India and South India can be found in Singapore\n",
    "As eating out is very common in Singapore, food related businesses are very profitable in Singapore.    \n",
    "  \n",
    "In Singapore, the primary mode of transport is trains, what we call as MRTs (Mass Rapid Transport). Proximity to a MRT station is key success factor to any business and so it is for food business. On a usual day couples and families meet up in their nearest MRT stations on their way back from work to grab their dinner before heading back home. "
   ]
  },
  {
   "cell_type": "markdown",
   "metadata": {},
   "source": [
    "**2. Business Objective**  \n",
    "A friend of mine is keen on opening an Indian restaurant and would like to know the best locality for opening up his restaurant. He'd like to find a suitable place near some MRT station to ensure the best possible footfall.  \n",
    "\n",
    "I agreed to help him to shortlist few suitable locations for opening his restaurant "
   ]
  },
  {
   "cell_type": "markdown",
   "metadata": {},
   "source": [
    "**3. Data Used**    \n",
    "a. Singapore MRT stations location data.        \n",
    "   The MRT location data was sourced from a kaggle notebook by LY Xuan         \n",
    "   *(https://www.kaggle.com/yxlee245/singapore-train-station-coordinates)*  \n",
    "b. Foursquare location data using Foursqaure API  "
   ]
  },
  {
   "cell_type": "markdown",
   "metadata": {},
   "source": [
    "**4.Methodology**  \n",
    "a. Using the MRT location data and Foursquare API, details of neighbourhood within 500M of each MRT station will be collected  \n",
    "b. This data will be then clustered using K-Means clustering algorithm to group similar neighbourhoods  \n",
    "c. Using Foursquare data find the number of Indian restaurants near each MRT station  \n",
    "e. Combine the results from steps b & c to identify smilar neighbourhoods with less number of Indian restaurants  \n",
    "f. Make a recommendation based on the results from step e"
   ]
  },
  {
   "cell_type": "code",
   "execution_count": null,
   "metadata": {},
   "outputs": [],
   "source": []
  }
 ],
 "metadata": {
  "kernelspec": {
   "display_name": "Python",
   "language": "python",
   "name": "conda-env-python-py"
  },
  "language_info": {
   "codemirror_mode": {
    "name": "ipython",
    "version": 3
   },
   "file_extension": ".py",
   "mimetype": "text/x-python",
   "name": "python",
   "nbconvert_exporter": "python",
   "pygments_lexer": "ipython3",
   "version": "3.6.10"
  }
 },
 "nbformat": 4,
 "nbformat_minor": 4
}
