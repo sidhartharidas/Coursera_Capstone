{
 "cells": [
  {
   "cell_type": "markdown",
   "metadata": {},
   "source": [
    "# Capstone Project- The Battle of Neighbourhoods #\n",
    "*Final Report for Week 2*"
   ]
  },
  {
   "cell_type": "markdown",
   "metadata": {},
   "source": [
    "### Finding a suitable neighbourhood for opening an Indian restaurant in Singapore ###"
   ]
  },
  {
   "cell_type": "markdown",
   "metadata": {},
   "source": [
    "**Table of Contents**\n",
    "* Section 1 Problem Background \n",
    "* Section 2 Business Objective   \n",
    "* Section 3 Data Used  \n",
    "* Section 4 Methodology\n",
    "* Section 5 Exploratory Data Analysis"
   ]
  },
  {
   "cell_type": "markdown",
   "metadata": {},
   "source": [
    "**1. Problem Background**       \n",
    "I live in Singapore, a tiny city state in South East Asia. In Singapore, food is viewed as crucial to its national identity and a unifying cultural thread. Eating is considered as a national pastime and food a national obsession. Food is a frequent topic of conversation among Singaporeans    \n",
    "  \n",
    "Indian cuisine is very popular in Singapore and like other Singaporean ethnic cuisines, Singaporean Indian cuisine has been influenced by multiple cultural groups. Dishes from both North India and South India can be found in Singapore\n",
    "As eating out is very common in Singapore, food related businesses are very profitable in Singapore.    \n",
    "  \n",
    "In Singapore, the primary mode of transport is trains, what we call as MRTs (Mass Rapid Transport). Proximity to a MRT station is key success factor to any business and so it is for food business. On a usual day couples and families meet up in their nearest MRT stations on their way back from work to grab their dinner before heading back home. "
   ]
  },
  {
   "cell_type": "markdown",
   "metadata": {},
   "source": [
    "**2. Business Objective**  \n",
    "My client is keen on opening an Indian restaurant and would like to know the best locality for opening up his restaurant. She'd like to find a suitable place near some MRT station to ensure the best possible footfall  \n",
    "\n",
    "In general the **target audience** of this analysis could be any individual or chain restaurants who are keen to open a medium scale Indian restaurant targeting people using public transport"
   ]
  },
  {
   "cell_type": "markdown",
   "metadata": {},
   "source": [
    "**3. Data Used**    \n",
    "**a. Singapore MRT stations location data**       \n",
    "   The MRT location data was sourced from a kaggle notebook by LY Xuan. *(https://www.kaggle.com/yxlee245/singapore-train-station-coordinates)*    \n",
    "   **The data consists of**\n",
    "   1. The name of stations/neighbourhoods, \n",
    "   2. The type of station (MRT or LRT)\n",
    "   3. Latitude \n",
    "   4. Longitude of each station  \n",
    "     \n",
    "**b. Foursquare location data using Foursqaure API**  \n",
    "     Key **features extracted** from this data were  \n",
    "   1. Top visited places  \n",
    "   2. Number of Indian restaurants within 500M of MRT stations"
   ]
  },
  {
   "cell_type": "markdown",
   "metadata": {},
   "source": [
    "**4.Methodology**  \n",
    "a. Using the MRT location data and Foursquare API, details of neighbourhood within 500M of each MRT station will be collected  \n",
    "b. This data will be then clustered using K-Means clustering algorithm to group similar neighbourhoods  \n",
    "c. Using Foursquare data find the number of Indian restaurants near each MRT station  \n",
    "e. Combine the results from steps b & c to identify smilar neighbourhoods with less number of Indian restaurants  \n",
    "f. Make a recommendation based on the results from step e"
   ]
  },
  {
   "cell_type": "markdown",
   "metadata": {},
   "source": [
    "**4.Exploratory Data Analysis**  \n",
    "A preliminary analysis of the data MRT location data was performed to see the content structure. The data identifies both MRT (metro rail stations) and LRT (light rail stations) separately. This was useful as it helps to easily classify the neighbourhoods as most of the LRT stations are located in the sub-urban housing localities  \n",
    "  \n",
    "While exploring the Foursquare data, I observed that most Indian restaurants are located approx. 1KM away from the MRT stations. However, as the business objective is to benefit from the MRT passengers, the search perimeter was fixed as 500M. Further analysis showed that there out of the total 157 stations, there are only 17 stations with atleast one Indian restaurant within 500M of an MRT station  \n",
    "  \n",
    "During k-means clustering, the algorithm was run multiple times to identify the right cluster numbers. After each iteration, clusters were analyzed independently to evaluate if the algorithm has classified the neighbourhoods in a sensible manner. Being a local, I could identify if the neighbourhoods were classified appropriately and any if outliers were clustered incorrectly. After multiple iterations, I decided to go with 5 clusters namely\n",
    "* Residential Areas  \n",
    "* Small towns  \n",
    "* Medium sized towns  \n",
    "* Emerging new towns\n",
    "* Downtown and nearby suburbs"
   ]
  },
  {
   "cell_type": "markdown",
   "metadata": {},
   "source": [
    "**5.Results**  \n",
    "\n",
    "It was found that Indian restaurants within 500M of MRT are located only in Cluster 3 (medium sized towns) and Cluster 5 (downtown & nearby suburbs).  Most number of Indian restaurants are located near Little India, Jelan Besar and Farrer Park MRT stations and all there of them fall in Cluster 5.  However, other stations in cluster 5 like Commonwealth, Buona Vista, Rocher & Beauty World had only less than 5 Indian restaurants within 500M.   \n",
    "All stations in cluster 3, had only 2 Indian restaurants within it's 500M perimeter"
   ]
  },
  {
   "cell_type": "markdown",
   "metadata": {},
   "source": [
    "**6.Discussions**  \n",
    "\n",
    "Based on the analysis results, my recommendation of locations are  \n",
    "**a. Buona Vista**- As an MRT interchange and with it's high proximity to Science Park (a business hub) this station \n",
    "   has very high footfall and has only 4 Indian Restaurants within it's 500M proximity  \n",
    "**b. Jurong East**- This MRT station is a busy interchange and is expected to become the CBD of west Singapore. This\n",
    "   neighbourhood is extremely busy, and in spite of having 3 malls connected to the station , there are only 2 Indian  \n",
    "   restaurants within 500M of the station  \n",
    "     \n",
    "My client may choose from the above two locations based on the availability of rental spaces, cost etc. which are beyond the scope of this analysis "
   ]
  },
  {
   "cell_type": "code",
   "execution_count": null,
   "metadata": {},
   "outputs": [],
   "source": []
  }
 ],
 "metadata": {
  "kernelspec": {
   "display_name": "Python",
   "language": "python",
   "name": "conda-env-python-py"
  },
  "language_info": {
   "codemirror_mode": {
    "name": "ipython",
    "version": 3
   },
   "file_extension": ".py",
   "mimetype": "text/x-python",
   "name": "python",
   "nbconvert_exporter": "python",
   "pygments_lexer": "ipython3",
   "version": "3.6.10"
  }
 },
 "nbformat": 4,
 "nbformat_minor": 4
}
